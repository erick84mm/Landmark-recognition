{
 "cells": [
  {
   "cell_type": "code",
   "execution_count": null,
   "metadata": {},
   "outputs": [],
   "source": [
    "## check all images\n",
    "\n",
    "_IMG_BASE_ = \"/gs/hs0/tga-nlp-titech/erick/data/exp0/\"\n",
    "\n",
    "from PIL import Image\n",
    "import os, time, multiprocessing\n",
    "\n",
    "file = open(\"/gs/hs0/tga-nlp-titech/erick/data/code/files.txt\")\n",
    "lines = file.readlines()\n",
    "file.close()\n",
    "n_processes = 120\n",
    "batch = len(lines) // n_processes\n",
    "\n",
    "chunks = [ lines[i*batch:(i+1)*batch] for i in range(n_processes)]\n",
    "\n",
    "p = 0\n",
    "for chunk in chunks:\n",
    "    p += len(chunk)\n",
    "\n",
    "chunks.append(lines[p:])\n",
    "\n",
    "def check_imgs(chunk):\n",
    "    for i, img in enumerate(chunk):\n",
    "        if(i % 10000 ==0):\n",
    "            print(\"processed %d\" % i)\n",
    "        try:\n",
    "            if(os.path.exists(_IMG_BASE_ + img[2:-1])):\n",
    "                im = Image.open(_IMG_BASE_ + img[2:-1])\n",
    "                #print(\"good\")\n",
    "        except:\n",
    "            os.remove(_IMG_BASE_ + img[2:-1])\n",
    "            print(\"bad\")\n",
    "    \n",
    "pool = multiprocessing.Pool(processes=n_processes)  # Num of CPUs\n",
    "pool.map(check_imgs, chunks)\n",
    "pool.close()\n",
    "pool.terminate()"
   ]
  },
  {
   "cell_type": "code",
   "execution_count": null,
   "metadata": {},
   "outputs": [],
   "source": [
    "_IMG_BASE_ = \"/gs/hs0/tga-nlp-titech/erick/data/exp0/\"\n",
    "import os\n",
    "\n",
    "file = open(\"/gs/hs0/tga-nlp-titech/erick/data/code/dirsTrain.txt\")\n",
    "linesTrain = file.readlines()\n",
    "file.close()\n",
    "Train = [val[2:-1] for val in linesTrain]\n",
    "\n",
    "file = open(\"/gs/hs0/tga-nlp-titech/erick/data/code/dirsDev.txt\")\n",
    "linesDev = file.readlines()\n",
    "file.close()\n",
    "Dev = [val[2:-1] for val in linesDev]\n",
    "\n",
    "\n",
    "for val in Train:\n",
    "    if( val not in Dev):\n",
    "        print(val)\n",
    "        os.makedirs(_IMG_BASE_+\"dev/\"+str(val)+\"/\")\n",
    "\n",
    "\n",
    "for val in Dev:\n",
    "    if( val not in Train):\n",
    "        print(val)\n",
    "        os.makedirs(_IMG_BASE_+\"train/\"+str(val)+\"/\")\n",
    "        "
   ]
  }
 ],
 "metadata": {
  "kernelspec": {
   "display_name": "Python 3",
   "language": "python",
   "name": "python3"
  },
  "language_info": {
   "codemirror_mode": {
    "name": "ipython",
    "version": 3
   },
   "file_extension": ".py",
   "mimetype": "text/x-python",
   "name": "python",
   "nbconvert_exporter": "python",
   "pygments_lexer": "ipython3",
   "version": "3.6.4"
  }
 },
 "nbformat": 4,
 "nbformat_minor": 2
}
